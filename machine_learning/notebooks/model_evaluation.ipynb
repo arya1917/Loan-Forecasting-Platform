{
 "cells": [
  {
   "cell_type": "code",
   "execution_count": 1,
   "metadata": {},
   "outputs": [
    {
     "name": "stdout",
     "output_type": "stream",
     "text": [
      "Mean Absolute Error (MAE): 4064.00\n",
      "Mean Squared Error (MSE): 19315680.00\n",
      "Root Mean Squared Error (RMSE): 4394.96\n",
      "R² Score: 0.6216\n",
      "Evaluation metrics saved to 'evaluation_metrics.csv'.\n"
     ]
    }
   ],
   "source": [
    "# Import necessary libraries\n",
    "import joblib\n",
    "import numpy as np\n",
    "import pandas as pd\n",
    "from sklearn.metrics import mean_absolute_error, mean_squared_error, r2_score\n",
    "\n",
    "# Load the dataset\n",
    "df = pd.read_csv('hiring.csv')\n",
    "df = df.dropna()\n",
    "df = pd.get_dummies(df, drop_first=True)\n",
    "\n",
    "# Define features and target variable\n",
    "X = df.drop('salary($)', axis=1)\n",
    "y = df['salary($)']\n",
    "\n",
    "# Load the saved scaler and model\n",
    "scaler = joblib.load('../models/scaler.pkl')\n",
    "model = joblib.load('../models/income_forecast_model.pkl')\n",
    "\n",
    "# Transform the data using the saved scaler\n",
    "X_scaled = scaler.transform(X)\n",
    "\n",
    "# Generate predictions\n",
    "y_pred = model.predict(X_scaled)\n",
    "\n",
    "# Calculate evaluation metrics\n",
    "mae = mean_absolute_error(y, y_pred)\n",
    "mse = mean_squared_error(y, y_pred)\n",
    "rmse = np.sqrt(mse)\n",
    "r2 = r2_score(y, y_pred)\n",
    "\n",
    "# Print results\n",
    "print(f\"Mean Absolute Error (MAE): {mae:.2f}\")\n",
    "print(f\"Mean Squared Error (MSE): {mse:.2f}\")\n",
    "print(f\"Root Mean Squared Error (RMSE): {rmse:.2f}\")\n",
    "print(f\"R² Score: {r2:.4f}\")\n",
    "\n",
    "# Save evaluation results to a file\n",
    "evaluation_results = {\n",
    "    \"MAE\": mae,\n",
    "    \"MSE\": mse,\n",
    "    \"RMSE\": rmse,\n",
    "    \"R2 Score\": r2\n",
    "}\n",
    "\n",
    "pd.DataFrame([evaluation_results]).to_csv(\"../models/evaluation_metrics.csv\", index=False)\n",
    "\n",
    "print(\"Evaluation metrics saved to 'evaluation_metrics.csv'.\")"
   ]
  },
  {
   "cell_type": "code",
   "execution_count": null,
   "metadata": {},
   "outputs": [],
   "source": []
  }
 ],
 "metadata": {
  "kernelspec": {
   "display_name": "Python 3",
   "language": "python",
   "name": "python3"
  },
  "language_info": {
   "codemirror_mode": {
    "name": "ipython",
    "version": 3
   },
   "file_extension": ".py",
   "mimetype": "text/x-python",
   "name": "python",
   "nbconvert_exporter": "python",
   "pygments_lexer": "ipython3",
   "version": "3.13.1"
  }
 },
 "nbformat": 4,
 "nbformat_minor": 2
}
